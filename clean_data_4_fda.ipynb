{
 "cells": [
  {
   "cell_type": "code",
   "execution_count": 1,
   "id": "e0958d03",
   "metadata": {},
   "outputs": [],
   "source": [
    "import pandas as pd\n",
    "import numpy as np\n",
    "\n",
    "import matplotlib.pyplot as plt\n",
    "from matplotlib.ticker import PercentFormatter\n",
    "\n",
    "import seaborn as sns\n",
    "import time\n",
    "import warnings\n",
    "warnings.filterwarnings(\"ignore\")\n",
    "\n",
    "plt.rcParams.update({'font.size': 50})"
   ]
  },
  {
   "cell_type": "code",
   "execution_count": 2,
   "id": "d7920bde",
   "metadata": {},
   "outputs": [],
   "source": [
    "sns.set()"
   ]
  },
  {
   "cell_type": "code",
   "execution_count": 3,
   "id": "94e2bcba",
   "metadata": {},
   "outputs": [],
   "source": [
    "#pd.read_csv('Scoring.csv')"
   ]
  },
  {
   "cell_type": "code",
   "execution_count": 4,
   "id": "a3f4dd3b",
   "metadata": {},
   "outputs": [],
   "source": [
    "# df_skaters = pd.DataFrame()\n",
    "# df_goalies = pd.DataFrame()\n",
    "\n",
    "# for year in range(2016, 2023):\n",
    "#     #print(year)\n",
    "#     try:\n",
    "#         time.sleep(120)\n",
    "#         if year == 2005:\n",
    "#             pass\n",
    "#         else:\n",
    "#             temp = pd.read_html(f'https://www.hockey-reference.com/leagues/NHL_{year}_skaters.html')[0]\n",
    "#             temp['Year'] = year\n",
    "\n",
    "#             temp2 = pd.read_html(f'https://www.hockey-reference.com/leagues/NHL_{year}_goalies.html')[0]\n",
    "#             temp2['Year'] = year\n",
    "\n",
    "#             df_skaters = pd.concat([df_skaters, temp], axis=0)\n",
    "#             df_goalies = pd.concat([df_goalies, temp2], axis=0)\n",
    "#             print(year)\n",
    "#     except:\n",
    "#         print(\"no go \" + str(year))\n",
    "        "
   ]
  },
  {
   "cell_type": "code",
   "execution_count": 5,
   "id": "0bc98b9d",
   "metadata": {},
   "outputs": [],
   "source": [
    "#df_skaters.columns = df_skaters.columns.droplevel()\n",
    "#df_goalies.columns = df_goalies.columns.droplevel()\n"
   ]
  },
  {
   "cell_type": "code",
   "execution_count": 6,
   "id": "b4b69fb7",
   "metadata": {},
   "outputs": [],
   "source": [
    "#df_skaters.to_csv('nhl_data_full_2016_2022.csv')"
   ]
  },
  {
   "cell_type": "code",
   "execution_count": 7,
   "id": "edb7d2be",
   "metadata": {},
   "outputs": [],
   "source": [
    "# df_skaters.columns = df_skaters.columns.droplevel()\n",
    "# df_goalies.columns = df_goalies.columns.droplevel()\n",
    "\n",
    "\n",
    "# df_skaters.columns = ['Rk', 'Player', 'Age', 'Tm', 'Pos', 'GP', 'G', 'A', 'PTS', '+/-', 'PIM',\n",
    "#        'PS', 'EV', 'PP', 'SH', 'GW', 'EV', 'PP', 'SH', 'S', 'S%', 'TOI',\n",
    "#        'ATOI', 'BLK', 'HIT', 'FOW', 'FOL', 'FO%', 'Year']\n",
    "\n",
    "\n",
    "# df_skaters = df_skaters[['Rk', 'Player', 'Age', 'Tm', 'Pos', 'GP', 'G', 'A', 'PTS', '+/-', 'PIM',\n",
    "#         'PS', 'EV', 'PP', 'SH', 'GW', 'EV', 'PP', 'SH', 'S', 'S%', 'TOI',\n",
    "#         'ATOI', 'Year']]\n",
    "# # df_goalies.columns = ['Rk', 'Player', 'Age', 'Tm', 'GP', 'GS', 'W', 'L', 'T/O', 'GA', 'SA',\n",
    "# #        'SV', 'SV%', 'GAA', 'SO', 'GPS', 'MIN', 'QS', 'QS%', 'RBS', 'GA%-',\n",
    "# #        'GSAA', 'G', 'A', 'PTS', 'PIM', 'Year']\n",
    "\n",
    "# # df_skaters['PIM'] = df_skaters['PIM'].fillna(0)\n",
    "# # df_skaters['S%'] = df_skaters['S%'].fillna(0)\n",
    "\n",
    "# df_skaters = df_skaters[df_skaters.Age != 'Age']\n",
    "# df_goalies = df_goalies[df_goalies.Age != 'Age']\n",
    "\n",
    "# df_skaters = pd.concat([df_skaters[['Rk', 'Player', 'Tm', 'Pos']], df_skaters[['Age','GP', 'G', 'A', 'PTS', '+/-', 'PIM',\n",
    "#        'PS', 'GW', 'S', 'S%','TOI', 'Year']].apply(pd.to_numeric)], axis=1)\n",
    "\n",
    "# df_goalies = pd.concat([df_goalies[['Rk', 'Player', 'Tm']], df_goalies[['Age','GP', 'W', 'L', 'T/O', 'GA', 'SA',\n",
    "#        'SV', 'SV%', 'GAA', 'SO', 'GPS', 'MIN', 'PIM','Year']].apply(pd.to_numeric)], axis=1)"
   ]
  },
  {
   "cell_type": "code",
   "execution_count": 8,
   "id": "118b8876",
   "metadata": {},
   "outputs": [],
   "source": [
    "df1 = pd.read_csv('nhl_data_full_2016_2022.csv')\n",
    "df2 = pd.read_csv('nhl_data_full_1965_2015.csv')\n",
    "df3 = pd.read_csv('nhl_data_full_1920_1964.csv')\n",
    "\n",
    "data = pd.concat([df1, df2, df3], axis=0)\n"
   ]
  },
  {
   "cell_type": "code",
   "execution_count": 9,
   "id": "cc6166f8",
   "metadata": {},
   "outputs": [],
   "source": [
    "data_nodups = data.groupby([\"Player\",\"Year\"], sort=False, as_index=False)['PTS'].agg({\"PTS\":\"sum\"})\n",
    "\n",
    "data_clean = data.drop(\"PTS\", axis=1).merge(data_nodups, on = [\"Player\",\"Year\"], how= 'inner').drop_duplicates(subset=['Player','Year'], keep = 'first')"
   ]
  },
  {
   "cell_type": "code",
   "execution_count": 10,
   "id": "23a4e3ac",
   "metadata": {},
   "outputs": [],
   "source": [
    "data_clean2 = data_clean.drop_duplicates(subset=['Player','Age'])"
   ]
  },
  {
   "cell_type": "code",
   "execution_count": 11,
   "id": "42f54553",
   "metadata": {},
   "outputs": [],
   "source": [
    "data_clean2['Player_season'] = data_clean2.groupby('Player').transform('cumcount')\n",
    "data_clean2['career_len'] = data_clean2.groupby('Player')['Player_season'].transform('max')\n",
    "data_clean2['age_max'] = data_clean2.groupby('Player')['Age'].transform('max')\n",
    "data_clean2['age_min'] = data_clean2.groupby('Player')['Age'].transform('min')\n",
    "data_clean2['PPG'] = data_clean2['PTS']/data_clean2['GP']\n",
    "\n",
    "data_clean2['PPG_past'] = data_clean2.groupby('Player')['PPG'].shift(1)\n",
    "data_clean2['PPG_delta'] = data_clean2['PPG'] - data_clean2['PPG_past']\n",
    "\n",
    "data_clean2['PPG_career'] = data_clean2.groupby(['Player'])['PTS'].transform('sum')/data_clean2.groupby(['Player'])['GP'].transform('sum')\n",
    "data_clean2['PS_career'] = data_clean2.groupby(['Player'])['PS'].transform('sum')\n",
    "data_clean2['GP_career'] = data_clean2.groupby(['Player'])['GP'].transform('sum')\n",
    "\n",
    "data_clean2.loc[data_clean2.Pos.isin(['LW','C', 'RW', 'F', 'W']), 'Pos_group'] = 'FWD'\n",
    "data_clean2.loc[data_clean2.Pos.isin(['D']), 'Pos_group'] = 'D'"
   ]
  },
  {
   "cell_type": "code",
   "execution_count": 12,
   "id": "2fa1d29b",
   "metadata": {},
   "outputs": [],
   "source": [
    "### i think this is right...####\n",
    "\n",
    "active_players = list(data_clean2[data_clean2.Year == 2022][\"Player\"].unique())\n",
    "data_clean2 = data_clean2[~data_clean2.Player.isin(active_players)]"
   ]
  },
  {
   "cell_type": "code",
   "execution_count": 13,
   "id": "a1b86470",
   "metadata": {},
   "outputs": [
    {
     "data": {
      "text/html": [
       "<div>\n",
       "<style scoped>\n",
       "    .dataframe tbody tr th:only-of-type {\n",
       "        vertical-align: middle;\n",
       "    }\n",
       "\n",
       "    .dataframe tbody tr th {\n",
       "        vertical-align: top;\n",
       "    }\n",
       "\n",
       "    .dataframe thead th {\n",
       "        text-align: right;\n",
       "    }\n",
       "</style>\n",
       "<table border=\"1\" class=\"dataframe\">\n",
       "  <thead>\n",
       "    <tr style=\"text-align: right;\">\n",
       "      <th></th>\n",
       "      <th>Pos_group</th>\n",
       "      <th>count</th>\n",
       "      <th>mean</th>\n",
       "      <th>std</th>\n",
       "      <th>min</th>\n",
       "      <th>25%</th>\n",
       "      <th>50%</th>\n",
       "      <th>75%</th>\n",
       "      <th>max</th>\n",
       "    </tr>\n",
       "  </thead>\n",
       "  <tbody>\n",
       "    <tr>\n",
       "      <th>0</th>\n",
       "      <td>D</td>\n",
       "      <td>12766.0</td>\n",
       "      <td>26.542613</td>\n",
       "      <td>4.434776</td>\n",
       "      <td>17.0</td>\n",
       "      <td>23.0</td>\n",
       "      <td>26.0</td>\n",
       "      <td>29.0</td>\n",
       "      <td>48.0</td>\n",
       "    </tr>\n",
       "    <tr>\n",
       "      <th>1</th>\n",
       "      <td>FWD</td>\n",
       "      <td>24970.0</td>\n",
       "      <td>26.172367</td>\n",
       "      <td>4.323997</td>\n",
       "      <td>17.0</td>\n",
       "      <td>23.0</td>\n",
       "      <td>26.0</td>\n",
       "      <td>29.0</td>\n",
       "      <td>51.0</td>\n",
       "    </tr>\n",
       "  </tbody>\n",
       "</table>\n",
       "</div>"
      ],
      "text/plain": [
       "  Pos_group    count       mean       std   min   25%   50%   75%   max\n",
       "0         D  12766.0  26.542613  4.434776  17.0  23.0  26.0  29.0  48.0\n",
       "1       FWD  24970.0  26.172367  4.323997  17.0  23.0  26.0  29.0  51.0"
      ]
     },
     "execution_count": 13,
     "metadata": {},
     "output_type": "execute_result"
    }
   ],
   "source": [
    "data_clean2.groupby(['Pos_group'])['Age'].describe().reset_index()"
   ]
  },
  {
   "cell_type": "code",
   "execution_count": 14,
   "id": "f63d6fc8",
   "metadata": {},
   "outputs": [],
   "source": [
    "age_samples = data_clean2[data_clean2.Pos_group == 'D'].groupby('Age').size().reset_index()\n",
    "age_samples.columns = ['Age', 'num_samples']"
   ]
  },
  {
   "cell_type": "code",
   "execution_count": 15,
   "id": "b5a246c1",
   "metadata": {},
   "outputs": [
    {
     "data": {
      "text/plain": [
       "(17.0, 40.0)"
      ]
     },
     "execution_count": 15,
     "metadata": {},
     "output_type": "execute_result"
    },
    {
     "data": {
      "image/png": "[encoded data removed]",
      "text/plain": [
       "<Figure size 432x288 with 1 Axes>"
      ]
     },
     "metadata": {},
     "output_type": "display_data"
    }
   ],
   "source": [
    "plt.bar(age_samples['Age'], age_samples['num_samples'])\n",
    "plt.xlabel('Age',fontsize=18)\n",
    "plt.ylabel('Count',fontsize=18)\n",
    "plt.xlim(17,40)"
   ]
  },
  {
   "cell_type": "code",
   "execution_count": 16,
   "id": "94138a52",
   "metadata": {},
   "outputs": [
    {
     "data": {
      "image/png": "[encoded data removed]",
      "text/plain": [
       "<Figure size 432x288 with 1 Axes>"
      ]
     },
     "metadata": {},
     "output_type": "display_data"
    }
   ],
   "source": [
    "fig = plt.figure()\n",
    "ax = fig.add_subplot(111)\n",
    "ax.hist(data_clean2[data_clean2.Pos_group == 'D']['PS_career'], edgecolor='black', weights=np.ones_like(data_clean2[data_clean2.Pos_group == 'D']['PS_career'])*100 / len(data_clean2[data_clean2.Pos_group == 'D']['PS_career']))\n",
    "ax.yaxis.set_major_formatter(PercentFormatter())\n",
    "ax.set_xlim(0,140)\n",
    "ax.set_ylim(0,60)\n",
    "ax.set_xlabel('Career PS',fontsize=18)\n",
    "ax.set_ylabel('Frequency',fontsize=18);"
   ]
  },
  {
   "cell_type": "code",
   "execution_count": 17,
   "id": "e9802cd7",
   "metadata": {},
   "outputs": [
    {
     "data": {
      "image/png": "[encoded data removed]",
      "text/plain": [
       "<Figure size 432x288 with 1 Axes>"
      ]
     },
     "metadata": {},
     "output_type": "display_data"
    }
   ],
   "source": [
    "data_clean2.groupby(['Age'])['TOI'].mean().plot(label = 'Average Minutes Played')\n",
    "data_clean2.groupby(['Age'])['TOI'].count().plot(label = 'Number of Samples')\n",
    "plt.xlim(18,48)\n",
    "plt.xlabel('Age',fontsize=18)\n",
    "plt.ylabel('',fontsize=18)\n",
    "plt.legend();"
   ]
  },
  {
   "cell_type": "code",
   "execution_count": 18,
   "id": "b2707467",
   "metadata": {},
   "outputs": [],
   "source": [
    "#list(data_clean2.Player.unique())"
   ]
  },
  {
   "cell_type": "code",
   "execution_count": 19,
   "id": "bbf67823",
   "metadata": {},
   "outputs": [],
   "source": [
    "f1 = data_clean2[data_clean2.Player == 'Henrik Zetterberg']\n",
    "f2 = data_clean2[data_clean2.Player == 'Andrew Shaw']\n",
    "f3 = data_clean2[data_clean2.Player == 'Ty Rattie']"
   ]
  },
  {
   "cell_type": "code",
   "execution_count": 20,
   "id": "b9278f14",
   "metadata": {},
   "outputs": [],
   "source": [
    "d1 = data_clean2[data_clean2.Player == 'Mark Pysyk']\n",
    "d2 = data_clean2[data_clean2.Player == 'Aaron Ness']\n",
    "d3 = data_clean2[data_clean2.Player == 'Dainius Zubrus']"
   ]
  },
  {
   "cell_type": "code",
   "execution_count": 21,
   "id": "071b7e42",
   "metadata": {},
   "outputs": [
    {
     "data": {
      "image/png": "[encoded data removed]",
      "text/plain": [
       "<Figure size 432x288 with 1 Axes>"
      ]
     },
     "metadata": {},
     "output_type": "display_data"
    }
   ],
   "source": [
    "f1 = f1.sort_values('Age')\n",
    "f2 = f2.sort_values('Age')\n",
    "\n",
    "plt.scatter(f1['Age'], f1['PS'], label = 'Henrik Zetterberg', marker = '.')\n",
    "plt.plot(f1['Age'], f1['PS'])\n",
    "plt.scatter(f2['Age'], f2['PS'], color = 'red', label = 'Andrew Shaw', marker='*')\n",
    "plt.plot(f2['Age'], f2['PS'])\n",
    "#plt.scatter(f3['Age'], f3['PS'], color = 'green', label = 'Ty Rattie')\n",
    "plt.xlabel('Age',fontsize=18)\n",
    "plt.ylabel('PS',fontsize=18)\n",
    "plt.legend();"
   ]
  },
  {
   "cell_type": "code",
   "execution_count": 22,
   "id": "f5911013",
   "metadata": {},
   "outputs": [
    {
     "data": {
      "image/png": "[encoded data removed]",
      "text/plain": [
       "<Figure size 432x288 with 1 Axes>"
      ]
     },
     "metadata": {},
     "output_type": "display_data"
    }
   ],
   "source": [
    "d3 = d3.sort_values('Age')\n",
    "d2 = d2.sort_values('Age')\n",
    "\n",
    "plt.scatter(d3['Age'], d3['PS'], label = 'Dainius Zubrus', marker = '.')\n",
    "plt.plot(d3['Age'], d3['PS'])\n",
    "plt.scatter(d2['Age'], d2['PS'], color = 'red', label = 'Aaron Ness', marker='*')\n",
    "plt.plot(d2['Age'], d2['PS'])\n",
    "#plt.scatter(f3['Age'], f3['PS'], color = 'green', label = 'Ty Rattie')\n",
    "plt.xlabel('Age',fontsize=18)\n",
    "plt.ylabel('PS',fontsize=18)\n",
    "plt.legend();"
   ]
  },
  {
   "cell_type": "code",
   "execution_count": 23,
   "id": "b5370fb1",
   "metadata": {},
   "outputs": [],
   "source": [
    "data_clean2['PS_career_mean'] = data_clean2.groupby('Player')['PS'].transform('mean')"
   ]
  },
  {
   "cell_type": "code",
   "execution_count": 24,
   "id": "0c136213",
   "metadata": {},
   "outputs": [],
   "source": [
    "data_clean2['PS_normalized'] = data_clean2['PS'] - data_clean2['PS_career_mean']"
   ]
  },
  {
   "cell_type": "code",
   "execution_count": 25,
   "id": "823c82c2",
   "metadata": {},
   "outputs": [
    {
     "data": {
      "text/plain": [
       "<AxesSubplot:>"
      ]
     },
     "execution_count": 25,
     "metadata": {},
     "output_type": "execute_result"
    },
    {
     "data": {
      "image/png": "[encoded data removed]",
      "text/plain": [
       "<Figure size 432x288 with 1 Axes>"
      ]
     },
     "metadata": {},
     "output_type": "display_data"
    }
   ],
   "source": [
    "data_clean2['PS_normalized'].hist()"
   ]
  },
  {
   "cell_type": "code",
   "execution_count": 26,
   "id": "4781fb7b",
   "metadata": {},
   "outputs": [
    {
     "data": {
      "text/plain": [
       "<AxesSubplot:>"
      ]
     },
     "execution_count": 26,
     "metadata": {},
     "output_type": "execute_result"
    },
    {
     "data": {
      "image/png": "[encoded data removed]",
      "text/plain": [
       "<Figure size 432x288 with 1 Axes>"
      ]
     },
     "metadata": {},
     "output_type": "display_data"
    }
   ],
   "source": [
    "data_clean2['PS'].hist()"
   ]
  },
  {
   "cell_type": "code",
   "execution_count": 27,
   "id": "8fbc8595",
   "metadata": {},
   "outputs": [],
   "source": [
    "data_clean2_fwd = data_clean2[data_clean2.Pos_group == 'FWD']\n",
    "data_clean2_D = data_clean2[data_clean2.Pos_group == 'D']\n",
    "\n",
    "data_clean2_fwd['Player'] = data_clean2_fwd['Player'].str.replace('*', '')\n",
    "data_clean2_D['Player'] = data_clean2_D['Player'].str.replace('*', '')"
   ]
  },
  {
   "cell_type": "code",
   "execution_count": 28,
   "id": "73aad8b0",
   "metadata": {},
   "outputs": [],
   "source": [
    "data_clean2_fwd_trim = data_clean2_fwd[(data_clean2_fwd.GP > 30)&(data_clean2_fwd.Age > 20)&(data_clean2_fwd.Age < 35)]"
   ]
  },
  {
   "cell_type": "code",
   "execution_count": 29,
   "id": "cd7c0250",
   "metadata": {},
   "outputs": [],
   "source": [
    "data_clean2_fwd_trim = data_clean2_fwd_trim.drop_duplicates(subset=['Player','Age'])"
   ]
  },
  {
   "cell_type": "code",
   "execution_count": 30,
   "id": "47103edc",
   "metadata": {},
   "outputs": [],
   "source": [
    "data_clean2_fwd_trim = data_clean2_fwd_trim.sort_values(['Player','Age'])"
   ]
  },
  {
   "cell_type": "code",
   "execution_count": 31,
   "id": "a2b04fd7",
   "metadata": {},
   "outputs": [],
   "source": [
    "data_clean2_fwd_trim['career'] = data_clean2_fwd_trim.groupby('Player')['Player_season'].transform('count')"
   ]
  },
  {
   "cell_type": "code",
   "execution_count": 32,
   "id": "5a582faa",
   "metadata": {},
   "outputs": [],
   "source": [
    "data_clean2_fwd_trim = data_clean2_fwd_trim[data_clean2_fwd_trim['career'] > 7]"
   ]
  },
  {
   "cell_type": "code",
   "execution_count": 33,
   "id": "5f842cc8",
   "metadata": {},
   "outputs": [],
   "source": [
    "#data_clean2_D_trim.to_csv('nhl_data_trim2.csv')"
   ]
  },
  {
   "cell_type": "code",
   "execution_count": 34,
   "id": "99f39605",
   "metadata": {},
   "outputs": [
    {
     "data": {
      "text/plain": [
       "9814"
      ]
     },
     "execution_count": 34,
     "metadata": {},
     "output_type": "execute_result"
    }
   ],
   "source": [
    "len(data_clean2_fwd_trim)"
   ]
  },
  {
   "cell_type": "code",
   "execution_count": 35,
   "id": "15356fb9",
   "metadata": {},
   "outputs": [
    {
     "data": {
      "text/plain": [
       "918"
      ]
     },
     "execution_count": 35,
     "metadata": {},
     "output_type": "execute_result"
    }
   ],
   "source": [
    "len(list(data_clean2_fwd_trim['Player'].unique()))"
   ]
  },
  {
   "cell_type": "code",
   "execution_count": 36,
   "id": "f62065cd",
   "metadata": {},
   "outputs": [],
   "source": [
    "train_players = list(data_clean2_fwd_trim['Player'].unique())[0:750]\n",
    "test_players = list(data_clean2_fwd_trim['Player'].unique())[750:]"
   ]
  },
  {
   "cell_type": "code",
   "execution_count": 37,
   "id": "42e70848",
   "metadata": {},
   "outputs": [
    {
     "data": {
      "text/plain": [
       "168"
      ]
     },
     "execution_count": 37,
     "metadata": {},
     "output_type": "execute_result"
    }
   ],
   "source": [
    "len(test_players)"
   ]
  },
  {
   "cell_type": "code",
   "execution_count": 38,
   "id": "169ac59e",
   "metadata": {},
   "outputs": [],
   "source": [
    "data_clean2_fwd_trim_train = data_clean2_fwd_trim[data_clean2_fwd_trim.Player.isin(train_players)]\n",
    "data_clean2_fwd_trim_test = data_clean2_fwd_trim[data_clean2_fwd_trim.Player.isin(test_players)]"
   ]
  },
  {
   "cell_type": "code",
   "execution_count": null,
   "id": "471e0ae5",
   "metadata": {},
   "outputs": [],
   "source": [
    "fwd_list = list(data_clean2_fwd_trim.Player.unique())\n",
    "#D_list = list(data_clean2_D_trim.Player.unique())\n",
    "\n",
    "max_age_global = 37\n",
    "\n",
    "player_list = fwd_list\n",
    "df_skaters = data_clean2_fwd_trim\n",
    "\n",
    "#def get_padded_df(df_skaters, player_list):\n",
    "target_array = []\n",
    "age_array = []\n",
    "delta_array = []\n",
    "\n",
    "for i in player_list:\n",
    "    delta = []\n",
    "#     try:\n",
    "    #try:\n",
    "    #ovr_list = np.linspace(18, 43, 43-18+1)\n",
    "    a = df_skaters[df_skaters.Player == i]['Age'].values\n",
    "    b = df_skaters[df_skaters.Player == i]['PS_normalized'].values\n",
    "\n",
    "    min_age = min(df_skaters[df_skaters.Player == i]['Age'])\n",
    "    max_age = max(df_skaters[df_skaters.Player == i]['Age'])\n",
    "\n",
    "\n",
    "    min_PPG = df_skaters[(df_skaters.Player == i)&(df_skaters.Age == min_age)]['PS_normalized'].values[0]\n",
    "    max_PPG = df_skaters[(df_skaters.Player == i)&(df_skaters.Age == max_age)]['PS_normalized'].values[0]\n",
    "\n",
    "\n",
    "    ideal_list = np.linspace(20, max_age_global, max_age_global-22+1) \n",
    "    #print(a,ideal_list)\n",
    "    set1 = set(ideal_list)\n",
    "    set2 = set(a)\n",
    "    a = list(a)\n",
    "    b = list(b)\n",
    "    missing = list(sorted(set1 - set2))\n",
    "\n",
    "    for k in range(len(b)):\n",
    "        delta.append(0)\n",
    "\n",
    "    #if len(missing) > 0:\n",
    "#         for j in missing:\n",
    "#             if j < min_age:\n",
    "#                 target_array.append(min_PPG)\n",
    "#             elif j > max_age:\n",
    "#                 target_array.append(max_PPG)\n",
    "#             else:\n",
    "#                 pass\n",
    "        #print(i)\n",
    "        #print(missing, max_age, min_age)\n",
    "\n",
    "    #break\n",
    "#         #print(missing, a)\n",
    "#         for j in missing:                \n",
    "#             index = list(ideal_list).index(j)\n",
    "#             b.insert(index, np.mean(b))\n",
    "#     #print(a)       \n",
    "    forward_pad = min_age - 20\n",
    "    back_pad = max_age_global - max_age\n",
    "\n",
    "    #print(forward_pad, back_pad, min_PPG, max_PPG)\n",
    "\n",
    "#     #print(min_age,max_age,forward_pad,back_pad, len(a))\n",
    "    b = np.pad(b, (forward_pad, back_pad), 'linear_ramp', end_values=(min_PPG, max_PPG))\n",
    "    a = np.pad(a, (forward_pad, back_pad), 'linear_ramp', end_values = (20,max_age_global))\n",
    "    delta = np.pad(delta, (forward_pad, back_pad), 'constant', constant_values=(1, 1))\n",
    "\n",
    "    target_array.append(b)\n",
    "    age_array.append(a)\n",
    "    delta_array.append(delta)\n",
    "#     except:\n",
    "#         print(i)"
   ]
  },
  {
   "cell_type": "code",
   "execution_count": null,
   "id": "ab30857a",
   "metadata": {},
   "outputs": [],
   "source": [
    "padded_df = pd.DataFrame()\n",
    "\n",
    "for i,j,k,l in zip(target_array, player_list, age_array, delta_array):\n",
    "    temp = pd.DataFrame({'Player': [j]*len(i),\n",
    "                         'Age': k,\n",
    "                         'PPG': i,\n",
    "                         'delta': l})\n",
    "    \n",
    "    padded_df = pd.concat([padded_df,temp],axis=0)\n"
   ]
  },
  {
   "cell_type": "code",
   "execution_count": null,
   "id": "1c0cb58d",
   "metadata": {},
   "outputs": [],
   "source": [
    "len(padded_df.Player.unique())"
   ]
  },
  {
   "cell_type": "code",
   "execution_count": null,
   "id": "a40b18dd",
   "metadata": {},
   "outputs": [],
   "source": [
    "#len(data_clean2_d_trim_test.Player.unique())"
   ]
  },
  {
   "cell_type": "code",
   "execution_count": null,
   "id": "52b976f8",
   "metadata": {},
   "outputs": [],
   "source": [
    "#padded_df = padded_df.fillna(0.307692)"
   ]
  },
  {
   "cell_type": "code",
   "execution_count": null,
   "id": "5ae41e32",
   "metadata": {},
   "outputs": [],
   "source": [
    "#padded_df = padded_df.drop_duplicates(['Player','Age'])"
   ]
  },
  {
   "cell_type": "code",
   "execution_count": null,
   "id": "f939b801",
   "metadata": {},
   "outputs": [],
   "source": [
    "padded_df.to_csv('imfunpca_cluster_D.csv')\n",
    "#padded_df.to_csv('imfunpca_nhl_32_fwd.csv')\n",
    "#padded_df.to_csv('imfunpca_d_test.csv')"
   ]
  },
  {
   "cell_type": "code",
   "execution_count": null,
   "id": "65342be5",
   "metadata": {},
   "outputs": [],
   "source": [
    "data_clean2_fwd_trim.to_csv('cluster_D.csv')"
   ]
  },
  {
   "cell_type": "code",
   "execution_count": null,
   "id": "2f4e69ed",
   "metadata": {},
   "outputs": [],
   "source": [
    "#data_clean2_d_trim_train"
   ]
  },
  {
   "cell_type": "code",
   "execution_count": null,
   "id": "b765af8a",
   "metadata": {},
   "outputs": [],
   "source": [
    "################### delta method ##############################################################################"
   ]
  },
  {
   "cell_type": "code",
   "execution_count": 39,
   "id": "1d1ed654",
   "metadata": {},
   "outputs": [],
   "source": [
    "data_clean2_fwd_trim_train['PS_shift'] = data_clean2_fwd_trim_train.groupby('Player')['PS'].shift()"
   ]
  },
  {
   "cell_type": "code",
   "execution_count": 40,
   "id": "52b8f310",
   "metadata": {},
   "outputs": [],
   "source": [
    "data_clean2_fwd_trim_train['GP_shift'] = data_clean2_fwd_trim_train.groupby('Player')['GP'].shift()"
   ]
  },
  {
   "cell_type": "code",
   "execution_count": 41,
   "id": "80860218",
   "metadata": {},
   "outputs": [],
   "source": [
    "data_clean2_fwd_trim_train1 = data_clean2_fwd_trim_train.dropna(subset = 'PS_shift')"
   ]
  },
  {
   "cell_type": "code",
   "execution_count": 42,
   "id": "0e122188",
   "metadata": {},
   "outputs": [],
   "source": [
    "data_clean2_d_trim_train1 = data_clean2_fwd_trim_train1[['Player', 'Tm', 'Pos', 'Age', 'GP', 'PS','Year', 'PTS', 'Player_season',\n",
    "       'career_len', 'age_max', 'age_min','PS_career', 'Pos_group', 'PS_career_mean',\n",
    "       'PS_normalized', 'career', 'PS_shift', 'GP_shift']]"
   ]
  },
  {
   "cell_type": "code",
   "execution_count": 43,
   "id": "b9cbadac",
   "metadata": {},
   "outputs": [],
   "source": [
    "data_clean2_fwd_trim_train1['PS_delta'] = data_clean2_fwd_trim_train1['PS'] - data_clean2_fwd_trim_train1['PS_shift']"
   ]
  },
  {
   "cell_type": "code",
   "execution_count": 44,
   "id": "c17b7947",
   "metadata": {},
   "outputs": [],
   "source": [
    "delta_df = data_clean2_fwd_trim_train1.groupby('Age')['PS_delta'].mean().reset_index()\n",
    "delta_df.columns = ['Age', 'delta']"
   ]
  },
  {
   "cell_type": "code",
   "execution_count": 45,
   "id": "023b76c5",
   "metadata": {},
   "outputs": [
    {
     "data": {
      "text/plain": [
       "<matplotlib.collections.PathCollection at 0x7fe5a0073a90>"
      ]
     },
     "execution_count": 45,
     "metadata": {},
     "output_type": "execute_result"
    },
    {
     "data": {
      "image/png": "[encoded data removed]",
      "text/plain": [
       "<Figure size 432x288 with 1 Axes>"
      ]
     },
     "metadata": {},
     "output_type": "display_data"
    }
   ],
   "source": [
    "plt.scatter(delta_df['Age'],delta_df['delta'])"
   ]
  },
  {
   "cell_type": "code",
   "execution_count": 46,
   "id": "72ceea09",
   "metadata": {},
   "outputs": [],
   "source": [
    "data_clean2_fwd_trim_test1 = data_clean2_fwd_trim_train.merge(delta_df, on = 'Age')\n"
   ]
  },
  {
   "cell_type": "code",
   "execution_count": 47,
   "id": "12bfe595",
   "metadata": {},
   "outputs": [],
   "source": [
    "data_clean2_fwd_trim_test1 = data_clean2_fwd_trim_test1.sort_values(['Player','Age'])"
   ]
  },
  {
   "cell_type": "code",
   "execution_count": 48,
   "id": "4b2b379b",
   "metadata": {},
   "outputs": [],
   "source": [
    "data_clean2_fwd_trim_test1['proj'] = data_clean2_fwd_trim_test1['PS'] + data_clean2_fwd_trim_test1['PS']*data_clean2_fwd_trim_test1['delta']\n"
   ]
  },
  {
   "cell_type": "code",
   "execution_count": 49,
   "id": "6941cad7",
   "metadata": {},
   "outputs": [],
   "source": [
    "data_clean2_fwd_trim_test1['PS_shift_future'] = data_clean2_fwd_trim_test1.groupby('Player')['PS'].shift(-1)"
   ]
  },
  {
   "cell_type": "code",
   "execution_count": 50,
   "id": "c58473ac",
   "metadata": {},
   "outputs": [],
   "source": [
    "data_clean2_fwd_trim_test1['Error'] = np.abs(data_clean2_fwd_trim_test1['proj'] - data_clean2_fwd_trim_test1['PS_shift_future'])\n",
    "\n"
   ]
  },
  {
   "cell_type": "code",
   "execution_count": 52,
   "id": "a648b53a",
   "metadata": {},
   "outputs": [],
   "source": [
    "data_clean2_fwd_trim_test1 = data_clean2_fwd_trim_test1[['Player', 'Tm', 'Pos', 'Age', 'GP', 'Year', 'Player_season',\n",
    "       'career_len', 'age_max', 'age_min', 'career', 'delta', 'proj','PS', 'PS_shift_future', 'Error']].sort_values(['Player','Age'])"
   ]
  },
  {
   "cell_type": "code",
   "execution_count": 53,
   "id": "de8e2087",
   "metadata": {},
   "outputs": [],
   "source": [
    "data_clean2_fwd_trim_test1 = data_clean2_fwd_trim_test1.dropna()"
   ]
  },
  {
   "cell_type": "code",
   "execution_count": 55,
   "id": "07f6c9e1",
   "metadata": {},
   "outputs": [
    {
     "data": {
      "text/plain": [
       "18.390613909847477"
      ]
     },
     "execution_count": 55,
     "metadata": {},
     "output_type": "execute_result"
    }
   ],
   "source": [
    "data_clean2_fwd_trim_test1['Error'].sum()/len(data_clean2_fwd_trim_test1.Player.unique())"
   ]
  },
  {
   "cell_type": "code",
   "execution_count": null,
   "id": "3e2b72a0",
   "metadata": {},
   "outputs": [],
   "source": [
    "data_clean2_fwd_trim_test1.loc[(data_clean2_fwd_trim_test1.Age <= 26)&(data_clean2_fwd_trim_test1.Age >= 22), 'AgeBin'] = '22-26'\n",
    "data_clean2_fwd_trim_test1.loc[(data_clean2_fwd_trim_test1.Age <= 30)&(data_clean2_fwd_trim_test1.Age > 26), 'AgeBin'] = '26-30'\n",
    "data_clean2_fwd_trim_test1.loc[(data_clean2_fwd_trim_test1.Age <= 36)&(data_clean2_fwd_trim_test1.Age > 30), 'AgeBin'] = '30-36'"
   ]
  },
  {
   "cell_type": "code",
   "execution_count": null,
   "id": "40943695",
   "metadata": {},
   "outputs": [],
   "source": [
    "data_clean2_fwd_trim_test1.groupby(['AgeBin'])['Error'].mean().plot.bar()\n",
    "plt.title('Error for the Delta Method (FWD)')\n",
    "plt.ylabel('MAE')"
   ]
  },
  {
   "cell_type": "code",
   "execution_count": null,
   "id": "9afb3a0d",
   "metadata": {},
   "outputs": [],
   "source": [
    "##################################################################################################################"
   ]
  },
  {
   "cell_type": "code",
   "execution_count": null,
   "id": "a9a67aec",
   "metadata": {},
   "outputs": [],
   "source": [
    "######## train test split for prediction ############"
   ]
  },
  {
   "cell_type": "code",
   "execution_count": 56,
   "id": "28feda2f",
   "metadata": {},
   "outputs": [],
   "source": [
    "cluster = pd.read_csv('cluster_data_fwd_pace.csv')"
   ]
  },
  {
   "cell_type": "code",
   "execution_count": 58,
   "id": "9741c20e",
   "metadata": {},
   "outputs": [],
   "source": [
    "#cluster"
   ]
  },
  {
   "cell_type": "code",
   "execution_count": 59,
   "id": "7baf10b7",
   "metadata": {},
   "outputs": [],
   "source": [
    "from sklearn.cluster import KMeans\n",
    "\n",
    "kmeans = KMeans(n_clusters=3, random_state=0).fit(cluster[['PC1', 'PC2']])\n",
    "cluster['labels'] = kmeans.labels_"
   ]
  },
  {
   "cell_type": "code",
   "execution_count": 60,
   "id": "c7b6d67b",
   "metadata": {},
   "outputs": [
    {
     "data": {
      "text/plain": [
       "labels\n",
       "0    3.992322\n",
       "1   -0.878546\n",
       "2   -0.755391\n",
       "Name: PC1, dtype: float64"
      ]
     },
     "execution_count": 60,
     "metadata": {},
     "output_type": "execute_result"
    }
   ],
   "source": [
    "cluster.groupby('labels')['PC1'].mean()"
   ]
  },
  {
   "cell_type": "code",
   "execution_count": 61,
   "id": "a9d7b6e7",
   "metadata": {},
   "outputs": [
    {
     "data": {
      "text/plain": [
       "labels\n",
       "0   -0.054385\n",
       "1   -1.130624\n",
       "2    3.221485\n",
       "Name: PC2, dtype: float64"
      ]
     },
     "execution_count": 61,
     "metadata": {},
     "output_type": "execute_result"
    }
   ],
   "source": [
    "cluster.groupby('labels')['PC2'].mean()"
   ]
  },
  {
   "cell_type": "code",
   "execution_count": 70,
   "id": "53d8473f",
   "metadata": {},
   "outputs": [],
   "source": [
    "cluster.Player = cluster.Player.str.normalize('NFKD').str.encode('ascii', errors='ignore').str.decode('utf-8')\n"
   ]
  },
  {
   "cell_type": "code",
   "execution_count": 62,
   "id": "42b32730",
   "metadata": {},
   "outputs": [],
   "source": [
    "data_w_cluster = data_clean2_fwd_trim.merge(cluster, on = 'Player')"
   ]
  },
  {
   "cell_type": "code",
   "execution_count": 63,
   "id": "00d8d373",
   "metadata": {},
   "outputs": [],
   "source": [
    "data_w_cluster_delta = data_clean2_fwd_trim_test1[['Player','Age','Error']].merge(data_w_cluster, on = ['Player','Age'])"
   ]
  },
  {
   "cell_type": "code",
   "execution_count": 64,
   "id": "c3b3f1c4",
   "metadata": {},
   "outputs": [],
   "source": [
    "data_w_cluster_delta['tot_err'] = data_w_cluster_delta.groupby(['Player'])['Error'].transform('sum')"
   ]
  },
  {
   "cell_type": "code",
   "execution_count": null,
   "id": "d920e6f0",
   "metadata": {},
   "outputs": [],
   "source": [
    "data_w_cluster_delta.loc[(data_w_cluster_delta.Age <= 26)&(data_w_cluster_delta.Age >= 22), 'AgeBin'] = '22-26'\n",
    "data_w_cluster_delta.loc[(data_w_cluster_delta.Age <= 30)&(data_w_cluster_delta.Age > 26), 'AgeBin'] = '26-30'\n",
    "data_w_cluster_delta.loc[(data_w_cluster_delta.Age <= 36)&(data_w_cluster_delta.Age > 30), 'AgeBin'] = '30-34'"
   ]
  },
  {
   "cell_type": "code",
   "execution_count": null,
   "id": "09ab40f4",
   "metadata": {},
   "outputs": [],
   "source": [
    "data_w_cluster_delta['labels'] = data_w_cluster['labels'] + 1"
   ]
  },
  {
   "cell_type": "code",
   "execution_count": null,
   "id": "e2e24708",
   "metadata": {},
   "outputs": [],
   "source": [
    "#data_w_cluster['labels'].unique()"
   ]
  },
  {
   "cell_type": "code",
   "execution_count": null,
   "id": "5df91b6a",
   "metadata": {},
   "outputs": [],
   "source": [
    "data_w_cluster_delta.columns"
   ]
  },
  {
   "cell_type": "code",
   "execution_count": null,
   "id": "9c81d9a7",
   "metadata": {},
   "outputs": [],
   "source": [
    "data_w_cluster_delta[['Player', 'Age', 'Error']]"
   ]
  },
  {
   "cell_type": "code",
   "execution_count": null,
   "id": "f8d04891",
   "metadata": {},
   "outputs": [],
   "source": [
    "data_w_cluster_delta.groupby('AgeBin')['tot_err'].mean()"
   ]
  },
  {
   "cell_type": "code",
   "execution_count": null,
   "id": "981b665c",
   "metadata": {},
   "outputs": [],
   "source": [
    "data_w_cluster_delta.groupby('Age')['tot_err'].mean().plot.bar()\n",
    "plt.title('Error of Delta Method by Age (FWD)')\n",
    "#plt.xticks([1,2,3],labels = [1,2,3])\n",
    "plt.xlabel('Age')\n",
    "plt.ylabel('Error');"
   ]
  },
  {
   "cell_type": "code",
   "execution_count": null,
   "id": "b93f6753",
   "metadata": {},
   "outputs": [],
   "source": [
    "plot_df = data_w_cluster_delta.groupby('PS_career')['tot_err'].mean().reset_index()"
   ]
  },
  {
   "cell_type": "code",
   "execution_count": null,
   "id": "b5109633",
   "metadata": {},
   "outputs": [],
   "source": [
    "plt.scatter(plot_df['PS_career'], plot_df['tot_err'])\n",
    "plt.title('Error of Delta Method by Age (FWD)')\n",
    "#plt.xticks([1,2,3],labels = [1,2,3])\n",
    "plt.xlabel('Age')\n",
    "plt.ylabel('Error');"
   ]
  },
  {
   "cell_type": "code",
   "execution_count": null,
   "id": "76549ad5",
   "metadata": {},
   "outputs": [],
   "source": [
    "data_w_cluster_delta.groupby('PS_career')['tot_err'].mean()"
   ]
  },
  {
   "cell_type": "code",
   "execution_count": null,
   "id": "dc62bf2a",
   "metadata": {},
   "outputs": [],
   "source": [
    "data_w_cluster.groupby('labels')['PS_career'].mean()"
   ]
  },
  {
   "cell_type": "code",
   "execution_count": null,
   "id": "c56ff630",
   "metadata": {},
   "outputs": [],
   "source": [
    "data_w_cluster.groupby('labels')['age_max'].mean()"
   ]
  },
  {
   "cell_type": "code",
   "execution_count": null,
   "id": "2fb30039",
   "metadata": {},
   "outputs": [],
   "source": [
    "data_w_cluster.groupby('labels')['age_min'].mean()"
   ]
  },
  {
   "cell_type": "code",
   "execution_count": null,
   "id": "969a2307",
   "metadata": {},
   "outputs": [],
   "source": [
    "data_w_cluster.groupby('labels')['PC1'].mean()"
   ]
  },
  {
   "cell_type": "code",
   "execution_count": null,
   "id": "876cce98",
   "metadata": {},
   "outputs": [],
   "source": [
    "data_w_cluster.groupby('labels')['PC2'].mean()"
   ]
  },
  {
   "cell_type": "code",
   "execution_count": null,
   "id": "c8b3c294",
   "metadata": {},
   "outputs": [],
   "source": [
    "cluster['labels'] = cluster['labels'] + 1"
   ]
  },
  {
   "cell_type": "code",
   "execution_count": null,
   "id": "1c2be971",
   "metadata": {},
   "outputs": [],
   "source": [
    "######################################################"
   ]
  },
  {
   "cell_type": "code",
   "execution_count": null,
   "id": "0f32c484",
   "metadata": {},
   "outputs": [],
   "source": [
    "########## Clustering ################################"
   ]
  },
  {
   "cell_type": "code",
   "execution_count": null,
   "id": "68e936b9",
   "metadata": {},
   "outputs": [],
   "source": [
    "\n",
    "\n",
    "ax = sns.scatterplot(data=cluster, x=\"PC1\", y=\"PC2\", hue=\"labels\", style=\"labels\")\n",
    "#ax.legend(title='Class', loc='upper left', labels=[1,2,3])"
   ]
  },
  {
   "cell_type": "code",
   "execution_count": null,
   "id": "61a2e2c0",
   "metadata": {},
   "outputs": [],
   "source": []
  },
  {
   "cell_type": "code",
   "execution_count": null,
   "id": "11045198",
   "metadata": {},
   "outputs": [],
   "source": []
  },
  {
   "cell_type": "code",
   "execution_count": null,
   "id": "be884b5e",
   "metadata": {},
   "outputs": [],
   "source": []
  },
  {
   "cell_type": "code",
   "execution_count": null,
   "id": "84bca570",
   "metadata": {},
   "outputs": [],
   "source": [
    "#### do something about 2005 lockout?\n",
    "\n",
    "# target_array = {}\n",
    "\n",
    "# player_list = fwd_list\n",
    "# df_skaters = data_clean2_fwd_trim\n",
    "\n",
    "# for i in player_list:\n",
    "#     #try:\n",
    "#     ovr_list = np.linspace(18, 43, 43-18+1)\n",
    "#     #a = df_skaters[df_skaters.Player == i]['Age'].values\n",
    "#     b = df_skaters[df_skaters.Player == i]['PPG'].values\n",
    "\n",
    "#     min_age = min(df_skaters[df_skaters.Player == i]['Age'])\n",
    "#     max_age = max(df_skaters[df_skaters.Player == i]['Age'])\n",
    "#     career_len = df_skaters[df_skaters.Player == i]['career_len'].values[0] \n",
    "    \n",
    "#     a = np.array(list(df_skaters[df_skaters.Player == i]['Age'].values))\n",
    "    \n",
    "#     ideal_list = np.linspace(18, 37, 36-19+1) \n",
    "#     #print(a,ideal_list)\n",
    "#     set1 = set(ideal_list)\n",
    "#     set2 = set(a)\n",
    "#     a = list(a)\n",
    "#     b = list(b)\n",
    "#     missing = list(sorted(set1 - set2))\n",
    "\n",
    "#     #print(missing)\n",
    "\n",
    "#     delta = []\n",
    "\n",
    "#     for j in ideal_list:\n",
    "#         if (j in missing) & (j < min_age):\n",
    "#             delta.append(1)\n",
    "#         elif (j in missing) & (j > max_age):\n",
    "#             delta.append(2)\n",
    "#         else:\n",
    "#             delta.append(0)\n",
    "        \n",
    "#     target_array[i] = delta\n",
    "\n",
    "# player_index = {}\n",
    "\n",
    "# for i in range(len(player_list)):\n",
    "#     player_index[i] = player_list[i]\n",
    "\n",
    "# player_index_df = pd.DataFrame(player_index, index = [0]).T.reset_index()\n",
    "# player_index_df.columns = ['playerId', 'Player']\n",
    "\n",
    "# df_skaters_pad_ages = pd.DataFrame(np.stack(age_array)).stack().reset_index()\n",
    "# df_skaters_pad_ages.columns = ['playerId', 'index', 'Age']\n",
    "\n",
    "# df_skaters_pad_pts = pd.DataFrame(np.stack(target_array)).stack().reset_index()\n",
    "# df_skaters_pad_pts.columns = ['playerId', 'index', 'PTS']\n",
    "\n",
    "# df_skaters_pad = df_skaters_pad_ages.merge(df_skaters_pad_pts, on = ['playerId','index'])\n",
    "# df_skaters_pad = df_skaters_pad.merge(player_index_df, on = 'playerId')\n"
   ]
  },
  {
   "cell_type": "code",
   "execution_count": null,
   "id": "58b579a5",
   "metadata": {},
   "outputs": [],
   "source": [
    "# g = df_skaters.groupby('Year')[\"PS\"]\n",
    "# min_, max_ = g.transform('min'), g.transform('max')\n",
    "# df_skaters['_scale'] = (df_skaters[\"PS\"] - min_) / (max_ - min_)"
   ]
  },
  {
   "cell_type": "code",
   "execution_count": null,
   "id": "92ba96cc",
   "metadata": {},
   "outputs": [],
   "source": [
    "#data_clean2_fwd_trim = data_clean2_fwd_trim.sort_values(['Player','Age'])\n",
    "#data_clean2_fwd_trim = data_clean2_fwd_trim[(data_clean2_fwd_trim.Age > 17)&(data_clean2_fwd_trim.Age < 38)]\n",
    "#data_clean2_fwd_trim2 = data_clean2_fwd_trim[(data_clean2_fwd_trim.GP > 10)&(data_clean2_fwd_trim.Age < 38)]"
   ]
  }
 ],
 "metadata": {
  "kernelspec": {
   "display_name": "Python 3 (ipykernel)",
   "language": "python",
   "name": "python3"
  },
  "language_info": {
   "codemirror_mode": {
    "name": "ipython",
    "version": 3
   },
   "file_extension": ".py",
   "mimetype": "text/x-python",
   "name": "python",
   "nbconvert_exporter": "python",
   "pygments_lexer": "ipython3",
   "version": "3.9.12"
  }
 },
 "nbformat": 4,
 "nbformat_minor": 5
}
